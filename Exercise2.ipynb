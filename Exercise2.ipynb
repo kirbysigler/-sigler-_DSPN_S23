{
  "cells": [
    {
      "cell_type": "markdown",
      "metadata": {
        "id": "view-in-github",
        "colab_type": "text"
      },
      "source": [
        "<a href=\"https://colab.research.google.com/github/kirbysigler/-sigler-_DSPN_S23/blob/main/Exercise2.ipynb\" target=\"_parent\"><img src=\"https://colab.research.google.com/assets/colab-badge.svg\" alt=\"Open In Colab\"/></a>"
      ]
    },
    {
      "cell_type": "markdown",
      "metadata": {
        "id": "01yx2myCiPDC"
      },
      "source": [
        "# Exercise 2: Coding Habits & Functions"
      ]
    },
    {
      "cell_type": "markdown",
      "metadata": {
        "id": "T1DxSwL4iPDD"
      },
      "source": [
        "This assignment will give you some practice writing your own functions and using the coding best practices discussed in the tutorial.\n",
        "\n",
        "---"
      ]
    },
    {
      "cell_type": "markdown",
      "metadata": {
        "id": "Lxmrc-yXiPDD"
      },
      "source": [
        "## 1. Summary statistics (4 pts)\n",
        "\n",
        "Write a function that takes a vector of numbers `x` and returns the length, mean, and standard deviation of `x` as a new vector.\n",
        "\n",
        "In keeping with our best practices, give the function a short but descriptive name, and use snake case if it involves multiple words. \n",
        "\n",
        "Hint: Vectors are defined in R using the `c()` command."
      ]
    },
    {
      "cell_type": "code",
      "execution_count": null,
      "metadata": {
        "id": "xMlv4tPviPDE",
        "outputId": "5b1f4d1f-134c-41f4-a1fa-4a998ff866c9",
        "colab": {
          "base_uri": "https://localhost:8080/",
          "height": 34
        }
      },
      "outputs": [
        {
          "output_type": "display_data",
          "data": {
            "text/html": [
              "<style>\n",
              ".list-inline {list-style: none; margin:0; padding: 0}\n",
              ".list-inline>li {display: inline-block}\n",
              ".list-inline>li:not(:last-child)::after {content: \"\\00b7\"; padding: 0 .5ex}\n",
              "</style>\n",
              "<ol class=list-inline><li>4</li><li>4</li><li>2.58198889747161</li></ol>\n"
            ],
            "text/markdown": "1. 4\n2. 4\n3. 2.58198889747161\n\n\n",
            "text/latex": "\\begin{enumerate*}\n\\item 4\n\\item 4\n\\item 2.58198889747161\n\\end{enumerate*}\n",
            "text/plain": [
              "[1] 4.000000 4.000000 2.581989"
            ]
          },
          "metadata": {}
        }
      ],
      "source": [
        "#Write your function here\n",
        "summary_funct <- function(x){\n",
        "  length_x <- length(x)\n",
        "  mean_x <- mean(x)\n",
        "  sd_x <- sd(x)\n",
        "  summ_x <- c(length_x,mean_x,sd_x)\n",
        "  return(summ_x)}\n",
        "\n",
        "x <- c(1,3,5,7)\n",
        "\n",
        "summary_funct(y)\n",
        "\n",
        "\n",
        "\n"
      ]
    },
    {
      "cell_type": "markdown",
      "metadata": {
        "id": "BI0l6g32iPDE"
      },
      "source": [
        "Calculate the summary statistics of vector `v1`."
      ]
    },
    {
      "cell_type": "code",
      "execution_count": null,
      "metadata": {
        "scrolled": false,
        "id": "aFK7DvKhiPDF",
        "outputId": "b22c9867-d03b-49f8-e4e9-4b46df341f92",
        "colab": {
          "base_uri": "https://localhost:8080/",
          "height": 34
        }
      },
      "outputs": [
        {
          "output_type": "display_data",
          "data": {
            "text/html": [
              "<style>\n",
              ".list-inline {list-style: none; margin:0; padding: 0}\n",
              ".list-inline>li {display: inline-block}\n",
              ".list-inline>li:not(:last-child)::after {content: \"\\00b7\"; padding: 0 .5ex}\n",
              "</style>\n",
              "<ol class=list-inline><li>4</li><li>7.75</li><li>2.75378527364305</li></ol>\n"
            ],
            "text/markdown": "1. 4\n2. 7.75\n3. 2.75378527364305\n\n\n",
            "text/latex": "\\begin{enumerate*}\n\\item 4\n\\item 7.75\n\\item 2.75378527364305\n\\end{enumerate*}\n",
            "text/plain": [
              "[1] 4.000000 7.750000 2.753785"
            ]
          },
          "metadata": {}
        }
      ],
      "source": [
        "v1  <- c(5, 11, 6, NA, 9)\n",
        "\n",
        "#your_function_name(v1)\n",
        "#na.omit used to remove missing value from vector, causing length of v1 to be 4\n",
        "\n",
        "v1_na_omit <- na.omit(v1)\n",
        "summary_funct(v1_na_omit)"
      ]
    },
    {
      "cell_type": "markdown",
      "metadata": {
        "id": "u42Cg9IsiPDF"
      },
      "source": [
        "---\n",
        "## 2. T-test function (4 pts)\n",
        "\n",
        "The formula for a t-test is:"
      ]
    },
    {
      "cell_type": "markdown",
      "metadata": {
        "id": "DNfJZIGqiPDF"
      },
      "source": [
        "$$ \\frac{m- \\mu}{ \\frac{s}{\\sqrt{n}}} $$"
      ]
    },
    {
      "cell_type": "markdown",
      "metadata": {
        "id": "Jgv-bc81iPDF"
      },
      "source": [
        "Where m is the sample mean, $\\mu$ (mu) is the population mean, s is the standard deviation, and n is the sample size.\n",
        "\n",
        "Using your function above as a starting point, write a new function `ttest_fun` that compares a vector `x` to a given population mean `mu` and calculates the t-statistic. Keep the coding best practices in mind.\n",
        "\n",
        "Hint: You will need to add another argument for mu."
      ]
    },
    {
      "cell_type": "code",
      "execution_count": null,
      "metadata": {
        "id": "KEQo4wf_iPDF",
        "outputId": "8917aa2e-cbcb-4701-aaa5-f26d0564b580",
        "colab": {
          "base_uri": "https://localhost:8080/",
          "height": 34
        }
      },
      "outputs": [
        {
          "output_type": "display_data",
          "data": {
            "text/html": [
              "0.654653670707977"
            ],
            "text/markdown": "0.654653670707977",
            "text/latex": "0.654653670707977",
            "text/plain": [
              "[1] 0.6546537"
            ]
          },
          "metadata": {}
        }
      ],
      "source": [
        "# Write ttest_fun here\n",
        "\n",
        "\n",
        "ttest_fun <- function(x, mu=6){\n",
        "    t <- ((mean(x) - mu)) / (sd(x)/sqrt(length(x)))\n",
        "  return(t)\n",
        "  }\n",
        "\n",
        "  x = c(2,4,6,8,10,12)\n",
        "\n",
        "  ttest_fun(x)\n",
        "\n"
      ]
    },
    {
      "cell_type": "markdown",
      "metadata": {
        "id": "2EjEg6v8iPDF"
      },
      "source": [
        "Use your function to compare the mean of v1 to 10."
      ]
    },
    {
      "cell_type": "code",
      "execution_count": null,
      "metadata": {
        "id": "YL--i9NJiPDG",
        "outputId": "96f1c254-5e96-4a6a-b59f-83cf112dab3b",
        "colab": {
          "base_uri": "https://localhost:8080/",
          "height": 34
        }
      },
      "outputs": [
        {
          "output_type": "display_data",
          "data": {
            "text/html": [
              "-1.63411433820577"
            ],
            "text/markdown": "-1.63411433820577",
            "text/latex": "-1.63411433820577",
            "text/plain": [
              "[1] -1.634114"
            ]
          },
          "metadata": {}
        }
      ],
      "source": [
        "\n",
        "ttest_fun(v1_na_omit, mu=10)\n"
      ]
    },
    {
      "cell_type": "markdown",
      "metadata": {
        "id": "ajX43TvIiPDG"
      },
      "source": [
        "---\n",
        "## 3. Setting default values (2 pts)\n",
        "\n",
        "Set the default value of mu to 0. Test your modified function below by supplying only `v2` as an argument."
      ]
    },
    {
      "cell_type": "code",
      "execution_count": 13,
      "metadata": {
        "id": "9GxEeJFYiPDG"
      },
      "outputs": [],
      "source": [
        "# Write your modified ttest_fun here\n",
        "ttest_fun <- function(x, mu=0){\n",
        "    t <- ((mean(x) - mu)) / (sd(x)/sqrt(length(x)))\n",
        "  return(t)\n",
        "  }\n",
        "\n",
        "v2 <- c(3, 7, 1, NA, 8, 12)\n",
        "\n",
        "v2_na_omit <- na.omit(v2)"
      ]
    },
    {
      "cell_type": "code",
      "execution_count": 17,
      "metadata": {
        "id": "vo6a2yeUiPDG",
        "outputId": "08cc1003-261f-4a61-ed36-432b79575623",
        "colab": {
          "base_uri": "https://localhost:8080/",
          "height": 34
        }
      },
      "outputs": [
        {
          "output_type": "display_data",
          "data": {
            "text/html": [
              "3.20594367796912"
            ],
            "text/markdown": "3.20594367796912",
            "text/latex": "3.20594367796912",
            "text/plain": [
              "[1] 3.205944"
            ]
          },
          "metadata": {}
        }
      ],
      "source": [
        "ttest_fun(v2_na_omit)\n"
      ]
    },
    {
      "cell_type": "markdown",
      "metadata": {
        "id": "wfd7fJGQiPDG"
      },
      "source": [
        "How does your result compare to R's built-in `t.test()` function?"
      ]
    },
    {
      "cell_type": "code",
      "execution_count": 16,
      "metadata": {
        "scrolled": true,
        "id": "q4BGqEvAiPDG",
        "outputId": "c72f2ca6-04a6-4402-d9a4-631606fcbced",
        "colab": {
          "base_uri": "https://localhost:8080/",
          "height": 213
        }
      },
      "outputs": [
        {
          "output_type": "display_data",
          "data": {
            "text/plain": [
              "\n",
              "\tOne Sample t-test\n",
              "\n",
              "data:  v2\n",
              "t = 3.2059, df = 4, p-value = 0.03272\n",
              "alternative hypothesis: true mean is not equal to 0\n",
              "95 percent confidence interval:\n",
              "  0.8306107 11.5693893\n",
              "sample estimates:\n",
              "mean of x \n",
              "      6.2 \n"
            ]
          },
          "metadata": {}
        }
      ],
      "source": [
        "t.test(v2)\n",
        "\n",
        "# treating NA as missing completely at random, \n",
        "# I removed the NA from the vector and calculated the t-statistic from the \n",
        "# remaining values in v2_na_omit, which seems to be how the t.test() function \n",
        "# treated NA, therefore my result is equal to the t.test() function result"
      ]
    },
    {
      "cell_type": "markdown",
      "metadata": {
        "id": "2slWzsoYGuLt"
      },
      "source": [
        "When you are finished, save the notebook as Exercise2.ipynb, push it to your class GitHub repository (the one you made for Exercise 1) and send the instructors a link to your notebook via Canvas. You can send messages via Canvas by clicking \"Inbox\" on the left and then pressing the icon with a pencil inside a square."
      ]
    },
    {
      "cell_type": "markdown",
      "metadata": {
        "id": "C4MPECMmZXqe"
      },
      "source": [
        "**DUE:** 5pm EST, Feb 6, 2023"
      ]
    },
    {
      "cell_type": "markdown",
      "metadata": {
        "id": "r9GUofXN4BVy"
      },
      "source": [
        "**IMPORTANT** Did you collaborate with anyone on this assignment? If so, list their names here. \n",
        "> *Emily O'Brien*"
      ]
    }
  ],
  "metadata": {
    "kernelspec": {
      "display_name": "R",
      "language": "R",
      "name": "ir"
    },
    "language_info": {
      "codemirror_mode": "r",
      "file_extension": ".r",
      "mimetype": "text/x-r-source",
      "name": "R",
      "pygments_lexer": "r",
      "version": "4.2.0"
    },
    "colab": {
      "provenance": [],
      "include_colab_link": true
    }
  },
  "nbformat": 4,
  "nbformat_minor": 0
}